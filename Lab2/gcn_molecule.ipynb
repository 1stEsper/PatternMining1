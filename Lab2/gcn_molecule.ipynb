{
  "cells": [
    {
      "cell_type": "markdown",
      "metadata": {
        "id": "XXFwRc_u2Gpl"
      },
      "source": [
        "Homework 2: Graph Neural Network for chemistry\n",
        "\n",
        "2) Graph neural networks for molecules (GCN)\n",
        "- experiment GCN from the deepchem python library\n",
        "- understand the GCN structure and learning (see GNN course slides)\n",
        "- test it on several supervised datasets, in order the make node classification or graph classification\n",
        "- evaluate (explain the measures) and discuss the results\n"
      ]
    },
    {
      "cell_type": "code",
      "execution_count": 9,
      "metadata": {
        "colab": {
          "base_uri": "https://localhost:8080/"
        },
        "id": "tU0LzPurAwjf",
        "outputId": "c0baf592-6bc5-4854-dac3-e181c2520c15"
      },
      "outputs": [
        {
          "name": "stdout",
          "output_type": "stream",
          "text": [
            "\u001b[33mWARNING: Ignoring invalid distribution ~ympy (/home/leon/anaconda3/lib/python3.11/site-packages)\u001b[0m\u001b[33m\n",
            "\u001b[0mRequirement already satisfied: deepchem in /home/leon/anaconda3/lib/python3.11/site-packages (2.8.1.dev20241213202457)\n",
            "Requirement already satisfied: joblib in /home/leon/anaconda3/lib/python3.11/site-packages (from deepchem) (1.3.2)\n",
            "Requirement already satisfied: numpy<2 in /home/leon/anaconda3/lib/python3.11/site-packages (from deepchem) (1.24.3)\n",
            "Requirement already satisfied: pandas in /home/leon/anaconda3/lib/python3.11/site-packages (from deepchem) (2.2.2)\n",
            "Requirement already satisfied: scikit-learn in /home/leon/anaconda3/lib/python3.11/site-packages (from deepchem) (1.5.2)\n",
            "Requirement already satisfied: sympy in /home/leon/anaconda3/lib/python3.11/site-packages (from deepchem) (1.13.1)\n",
            "Requirement already satisfied: scipy>=1.10.1 in /home/leon/anaconda3/lib/python3.11/site-packages (from deepchem) (1.14.1)\n",
            "Requirement already satisfied: rdkit in /home/leon/anaconda3/lib/python3.11/site-packages (from deepchem) (2024.3.6)\n",
            "Requirement already satisfied: python-dateutil>=2.8.2 in /home/leon/anaconda3/lib/python3.11/site-packages (from pandas->deepchem) (2.8.2)\n",
            "Requirement already satisfied: pytz>=2020.1 in /home/leon/anaconda3/lib/python3.11/site-packages (from pandas->deepchem) (2024.1)\n",
            "Requirement already satisfied: tzdata>=2022.7 in /home/leon/anaconda3/lib/python3.11/site-packages (from pandas->deepchem) (2023.4)\n",
            "Requirement already satisfied: Pillow in /home/leon/anaconda3/lib/python3.11/site-packages (from rdkit->deepchem) (9.4.0)\n",
            "Requirement already satisfied: threadpoolctl>=3.1.0 in /home/leon/anaconda3/lib/python3.11/site-packages (from scikit-learn->deepchem) (3.2.0)\n",
            "Requirement already satisfied: mpmath<1.4,>=1.1.0 in /home/leon/anaconda3/lib/python3.11/site-packages (from sympy->deepchem) (1.3.0)\n",
            "Requirement already satisfied: six>=1.5 in /home/leon/anaconda3/lib/python3.11/site-packages (from python-dateutil>=2.8.2->pandas->deepchem) (1.16.0)\n",
            "\u001b[33mWARNING: Ignoring invalid distribution ~ympy (/home/leon/anaconda3/lib/python3.11/site-packages)\u001b[0m\u001b[33m\n",
            "\u001b[0m\u001b[33mWARNING: Ignoring invalid distribution ~ympy (/home/leon/anaconda3/lib/python3.11/site-packages)\u001b[0m\u001b[33m\n",
            "\u001b[0m\u001b[33mWARNING: Ignoring invalid distribution ~ympy (/home/leon/anaconda3/lib/python3.11/site-packages)\u001b[0m\u001b[33m\n",
            "\u001b[0m\u001b[33mWARNING: Ignoring invalid distribution ~ympy (/home/leon/anaconda3/lib/python3.11/site-packages)\u001b[0m\u001b[33m\n",
            "\u001b[0m"
          ]
        }
      ],
      "source": [
        "!pip install --pre deepchem"
      ]
    },
    {
      "cell_type": "markdown",
      "metadata": {
        "id": "mdmftJ-gAwji"
      },
      "source": [
        "We make a first test the DeepChem library with the code mentioned in the tutorial. We load the Tox21 dataset with the featurizer 'GraphConv'."
      ]
    },
    {
      "cell_type": "code",
      "execution_count": 11,
      "metadata": {
        "colab": {
          "base_uri": "https://localhost:8080/"
        },
        "id": "ZyWrDpbtAwjj",
        "outputId": "bcb655db-d7ce-422d-a495-99e88674d129"
      },
      "outputs": [],
      "source": [
        "import deepchem as dc\n",
        "\n",
        "tasks, datasets, transformers = dc.molnet.load_tox21(featurizer='GraphConv')\n",
        "train_dataset, valid_dataset, test_dataset = datasets"
      ]
    },
    {
      "cell_type": "markdown",
      "metadata": {
        "id": "xsNO01cIAwjk"
      },
      "source": [
        "Train the graph convolutional network for classification with GraphConvModel"
      ]
    },
    {
      "cell_type": "code",
      "execution_count": 13,
      "metadata": {
        "colab": {
          "base_uri": "https://localhost:8080/",
          "height": 347
        },
        "id": "Q6Wb_4mhAwjk",
        "outputId": "a13e6d1a-9f08-4418-ccb2-7e64c97e6dbe"
      },
      "outputs": [
        {
          "data": {
            "text/plain": [
              "0.30834794998168946"
            ]
          },
          "execution_count": 13,
          "metadata": {},
          "output_type": "execute_result"
        }
      ],
      "source": [
        "n_tasks = len(tasks)\n",
        "model = dc.models.GraphConvModel(n_tasks, mode='classification', batch_normalize=False)\n",
        "model.fit(train_dataset, nb_epoch=50)"
      ]
    },
    {
      "cell_type": "markdown",
      "metadata": {
        "id": "JollkxTYAwjl"
      },
      "source": [
        "Evaluate the performance of the model. We use the metric ROC-AUC score (tradeoff between precision and recall)."
      ]
    },
    {
      "cell_type": "code",
      "execution_count": 14,
      "metadata": {
        "id": "TsQ02WoHAwjl",
        "outputId": "caf3278d-fa68-4445-a734-317abc969f6a"
      },
      "outputs": [
        {
          "name": "stdout",
          "output_type": "stream",
          "text": [
            "Training set score: {'roc_auc_score': 0.9662236418729662}\n",
            "Test set score: {'roc_auc_score': 0.7141046267308472}\n"
          ]
        }
      ],
      "source": [
        "metric = dc.metrics.Metric(dc.metrics.roc_auc_score)\n",
        "print('Training set score:', model.evaluate(train_dataset, [metric], transformers))\n",
        "print('Test set score:', model.evaluate(test_dataset, [metric], transformers))"
      ]
    },
    {
      "cell_type": "markdown",
      "metadata": {
        "id": "Am9wSsEsCYiD"
      },
      "source": [
        "Let's use the SIRTUIN6 Small Molecules dataset, for classification, which includes 100 molecules with descriptors to determine the candidate inhibitors of a target protein. The molecules are grouped based on low- and high-BFE which we use for the classification.\n",
        "Link to the dataset:\n",
        "https://archive.ics.uci.edu/dataset/748/sirtuin6+small+molecules-1"
      ]
    },
    {
      "cell_type": "code",
      "execution_count": 24,
      "metadata": {
        "id": "taWgTaQ-CtRG"
      },
      "outputs": [],
      "source": [
        "import pandas as pd\n",
        "import numpy as np\n",
        "from sklearn.preprocessing import StandardScaler\n",
        "from sklearn.model_selection import train_test_split\n",
        "from sklearn.metrics import confusion_matrix, classification_report\n",
        "import seaborn as sns\n",
        "import matplotlib.pyplot as plt"
      ]
    },
    {
      "cell_type": "code",
      "execution_count": 25,
      "metadata": {
        "id": "Efn3yxMYCSD_"
      },
      "outputs": [],
      "source": [
        "#import sirtuin6 dataset\n",
        "df = pd.read_csv('data/SIRTUIN6.csv')\n",
        "X = df.drop('Class', axis=1).values\n",
        "y = (df['Class'] == 'High_BFE').astype(int)"
      ]
    },
    {
      "cell_type": "code",
      "execution_count": 26,
      "metadata": {
        "id": "JUtx6zALCyFU"
      },
      "outputs": [],
      "source": [
        "#split data between train, test\n",
        "X_train, X_test, y_train, y_test = train_test_split(X, y, test_size=0.2, random_state=42)\n",
        "\n",
        "#standardize features\n",
        "scaler = StandardScaler()\n",
        "X_train_scaled = scaler.fit_transform(X_train)\n",
        "X_test_scaled = scaler.transform(X_test)\n",
        "\n",
        "y_train = np.expand_dims(y_train, axis=1)\n",
        "y_test = np.expand_dims(y_test, axis=1)\n",
        "\n",
        "train_dataset = dc.data.NumpyDataset(X_train_scaled, y_train)\n",
        "test_dataset = dc.data.NumpyDataset(X_test_scaled, y_test)"
      ]
    },
    {
      "cell_type": "code",
      "execution_count": 27,
      "metadata": {
        "colab": {
          "base_uri": "https://localhost:8080/"
        },
        "id": "HXDyDCxbCz9q",
        "outputId": "966bb2c2-ca9d-4f78-a116-f27766ab63e4"
      },
      "outputs": [
        {
          "data": {
            "text/plain": [
              "0.6707041931152343"
            ]
          },
          "execution_count": 27,
          "metadata": {},
          "output_type": "execute_result"
        }
      ],
      "source": [
        "n_features = X_train.shape[1]\n",
        "model = dc.models.MultitaskClassifier(n_tasks=1, n_features=n_features, layer_sizes=[64, 32], dropout=0.2)\n",
        "\n",
        "#train the model\n",
        "model.fit(train_dataset, nb_epoch=50)"
      ]
    },
    {
      "cell_type": "code",
      "execution_count": 28,
      "metadata": {
        "id": "tZwMeltDJnUO"
      },
      "outputs": [],
      "source": [
        "y_pred_proba = model.predict(test_dataset)"
      ]
    },
    {
      "cell_type": "code",
      "execution_count": 29,
      "metadata": {
        "id": "qMtfA17QhNwb"
      },
      "outputs": [],
      "source": [
        "#we convert the probabilities to class predictions to solve issues with shape\n",
        "y_pred_classes = np.argmax(y_pred_proba, axis=2)\n",
        "y_pred_classes = y_pred_classes.flatten()\n",
        "y_test_flat = y_test.flatten()"
      ]
    },
    {
      "cell_type": "markdown",
      "metadata": {
        "id": "qtEv_f_clorP"
      },
      "source": [
        "We perform evaluation on the regular measures for models with the function classification_report from sklearn.metrics. It covers precision, recall, f1-score and support for the classes.  \n",
        "- Precision : measures the accuracy of positive predictions.\n",
        "- Recall : measures the ability of the model to find all positive samples.\n",
        "- f1-score : mean of precision and recall.\n",
        "- suport : number of true samples in each class.\n"
      ]
    },
    {
      "cell_type": "code",
      "execution_count": 30,
      "metadata": {
        "colab": {
          "base_uri": "https://localhost:8080/"
        },
        "id": "3rCew0l9K8rl",
        "outputId": "c9af2dab-4c07-4741-e118-d04bd3505640"
      },
      "outputs": [
        {
          "name": "stdout",
          "output_type": "stream",
          "text": [
            "              precision    recall  f1-score   support\n",
            "\n",
            "           0       0.70      0.88      0.78         8\n",
            "           1       0.90      0.75      0.82        12\n",
            "\n",
            "    accuracy                           0.80        20\n",
            "   macro avg       0.80      0.81      0.80        20\n",
            "weighted avg       0.82      0.80      0.80        20\n",
            "\n"
          ]
        }
      ],
      "source": [
        "print(classification_report(y_test_flat, y_pred_classes))"
      ]
    },
    {
      "cell_type": "markdown",
      "metadata": {
        "id": "JR6yLvhYqVbq"
      },
      "source": [
        "We can also print the confusion matrix which compares the predicted labels with the true labels."
      ]
    },
    {
      "cell_type": "code",
      "execution_count": null,
      "metadata": {
        "colab": {
          "base_uri": "https://localhost:8080/",
          "height": 564
        },
        "id": "-iKdVxwuhcaH",
        "outputId": "31ed5b1a-0bf9-4e03-cbf9-a908270c2903"
      },
      "outputs": [],
      "source": [
        "cm = confusion_matrix(y_test_flat, y_pred_classes)\n",
        "plt.figure(figsize=(8, 6))\n",
        "sns.heatmap(cm, annot=True, fmt='d', cmap='Blues')\n",
        "plt.title('Confusion Matrix')\n",
        "plt.ylabel('True Label')\n",
        "plt.xlabel('Predicted Label')\n",
        "plt.show()"
      ]
    }
  ],
  "metadata": {
    "colab": {
      "provenance": []
    },
    "kernelspec": {
      "display_name": "base",
      "language": "python",
      "name": "python3"
    },
    "language_info": {
      "codemirror_mode": {
        "name": "ipython",
        "version": 3
      },
      "file_extension": ".py",
      "mimetype": "text/x-python",
      "name": "python",
      "nbconvert_exporter": "python",
      "pygments_lexer": "ipython3",
      "version": "3.11.5"
    }
  },
  "nbformat": 4,
  "nbformat_minor": 0
}
