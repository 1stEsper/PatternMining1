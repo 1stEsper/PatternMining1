{
 "cells": [
  {
   "cell_type": "code",
   "execution_count": 1,
   "metadata": {},
   "outputs": [
    {
     "name": "stdout",
     "output_type": "stream",
     "text": [
      "Requirement already satisfied: deepchem in /home/leon/anaconda3/envs/crosswalk/lib/python3.8/site-packages (2.8.1.dev20241125190736)\n",
      "Requirement already satisfied: pandas in /home/leon/anaconda3/envs/crosswalk/lib/python3.8/site-packages (from deepchem) (2.0.3)\n",
      "Requirement already satisfied: joblib in /home/leon/anaconda3/envs/crosswalk/lib/python3.8/site-packages (from deepchem) (1.4.2)\n",
      "Requirement already satisfied: scipy>=1.10.1 in /home/leon/anaconda3/envs/crosswalk/lib/python3.8/site-packages (from deepchem) (1.10.1)\n",
      "Requirement already satisfied: numpy<2 in /home/leon/anaconda3/envs/crosswalk/lib/python3.8/site-packages (from deepchem) (1.23.0)\n",
      "Requirement already satisfied: scikit-learn in /home/leon/anaconda3/envs/crosswalk/lib/python3.8/site-packages (from deepchem) (0.24.2)\n",
      "Requirement already satisfied: sympy in /home/leon/anaconda3/envs/crosswalk/lib/python3.8/site-packages (from deepchem) (1.13.3)\n",
      "Requirement already satisfied: rdkit in /home/leon/anaconda3/envs/crosswalk/lib/python3.8/site-packages (from deepchem) (2024.3.5)\n",
      "Requirement already satisfied: tzdata>=2022.1 in /home/leon/anaconda3/envs/crosswalk/lib/python3.8/site-packages (from pandas->deepchem) (2024.1)\n",
      "Requirement already satisfied: python-dateutil>=2.8.2 in /home/leon/anaconda3/envs/crosswalk/lib/python3.8/site-packages (from pandas->deepchem) (2.8.2)\n",
      "Requirement already satisfied: pytz>=2020.1 in /home/leon/anaconda3/envs/crosswalk/lib/python3.8/site-packages (from pandas->deepchem) (2024.1)\n",
      "Requirement already satisfied: Pillow in /home/leon/anaconda3/envs/crosswalk/lib/python3.8/site-packages (from rdkit->deepchem) (10.2.0)\n",
      "Requirement already satisfied: threadpoolctl>=2.0.0 in /home/leon/anaconda3/envs/crosswalk/lib/python3.8/site-packages (from scikit-learn->deepchem) (3.2.0)\n",
      "Requirement already satisfied: mpmath<1.4,>=1.1.0 in /home/leon/anaconda3/envs/crosswalk/lib/python3.8/site-packages (from sympy->deepchem) (1.3.0)\n",
      "Requirement already satisfied: six>=1.5 in /home/leon/anaconda3/envs/crosswalk/lib/python3.8/site-packages (from python-dateutil>=2.8.2->pandas->deepchem) (1.16.0)\n",
      "Note: you may need to restart the kernel to use updated packages.\n"
     ]
    }
   ],
   "source": [
    "pip install --pre deepchem"
   ]
  },
  {
   "cell_type": "code",
   "execution_count": 7,
   "metadata": {},
   "outputs": [
    {
     "name": "stdout",
     "output_type": "stream",
     "text": [
      "Collecting dgllife\n",
      "  Downloading dgllife-0.3.2-py3-none-any.whl (226 kB)\n",
      "\u001b[2K     \u001b[90m━━━━━━━━━━━━━━━━━━━━━━━━━━━━━━━━━━━━━━━\u001b[0m \u001b[32m226.1/226.1 kB\u001b[0m \u001b[31m1.7 MB/s\u001b[0m eta \u001b[36m0:00:00\u001b[0m00:01\u001b[0m00:01\u001b[0m\n",
      "\u001b[?25hRequirement already satisfied: requests>=2.22.0 in /home/leon/anaconda3/envs/crosswalk/lib/python3.8/site-packages (from dgllife) (2.31.0)\n",
      "Collecting hyperopt\n",
      "  Downloading hyperopt-0.2.7-py2.py3-none-any.whl (1.6 MB)\n",
      "\u001b[2K     \u001b[90m━━━━━━━━━━━━━━━━━━━━━━━━━━━━━━━━━━━━━━━━\u001b[0m \u001b[32m1.6/1.6 MB\u001b[0m \u001b[31m6.2 MB/s\u001b[0m eta \u001b[36m0:00:00\u001b[0m00:01\u001b[0m00:01\u001b[0m\n",
      "\u001b[?25hRequirement already satisfied: scipy>=1.1.0 in /home/leon/anaconda3/envs/crosswalk/lib/python3.8/site-packages (from dgllife) (1.10.1)\n",
      "Requirement already satisfied: networkx>=2.1 in /home/leon/anaconda3/envs/crosswalk/lib/python3.8/site-packages (from dgllife) (2.8.8)\n",
      "Requirement already satisfied: joblib in /home/leon/anaconda3/envs/crosswalk/lib/python3.8/site-packages (from dgllife) (1.4.2)\n",
      "Requirement already satisfied: tqdm in /home/leon/anaconda3/envs/crosswalk/lib/python3.8/site-packages (from dgllife) (4.66.1)\n",
      "Requirement already satisfied: numpy>=1.14.0 in /home/leon/anaconda3/envs/crosswalk/lib/python3.8/site-packages (from dgllife) (1.23.0)\n",
      "Requirement already satisfied: pandas in /home/leon/anaconda3/envs/crosswalk/lib/python3.8/site-packages (from dgllife) (2.0.3)\n",
      "Requirement already satisfied: scikit-learn>=0.22.2 in /home/leon/anaconda3/envs/crosswalk/lib/python3.8/site-packages (from dgllife) (0.24.2)\n",
      "Requirement already satisfied: certifi>=2017.4.17 in /home/leon/anaconda3/envs/crosswalk/lib/python3.8/site-packages (from requests>=2.22.0->dgllife) (2024.2.2)\n",
      "Requirement already satisfied: idna<4,>=2.5 in /home/leon/anaconda3/envs/crosswalk/lib/python3.8/site-packages (from requests>=2.22.0->dgllife) (3.6)\n",
      "Requirement already satisfied: charset-normalizer<4,>=2 in /home/leon/anaconda3/envs/crosswalk/lib/python3.8/site-packages (from requests>=2.22.0->dgllife) (3.3.2)\n",
      "Requirement already satisfied: urllib3<3,>=1.21.1 in /home/leon/anaconda3/envs/crosswalk/lib/python3.8/site-packages (from requests>=2.22.0->dgllife) (2.2.0)\n",
      "Requirement already satisfied: threadpoolctl>=2.0.0 in /home/leon/anaconda3/envs/crosswalk/lib/python3.8/site-packages (from scikit-learn>=0.22.2->dgllife) (3.2.0)\n",
      "Collecting future\n",
      "  Downloading future-1.0.0-py3-none-any.whl (491 kB)\n",
      "\u001b[2K     \u001b[90m━━━━━━━━━━━━━━━━━━━━━━━━━━━━━━━━━━━━━━━\u001b[0m \u001b[32m491.3/491.3 kB\u001b[0m \u001b[31m8.4 MB/s\u001b[0m eta \u001b[36m0:00:00\u001b[0ma \u001b[36m0:00:01\u001b[0m\n",
      "\u001b[?25hRequirement already satisfied: six in /home/leon/anaconda3/envs/crosswalk/lib/python3.8/site-packages (from hyperopt->dgllife) (1.16.0)\n",
      "Collecting cloudpickle\n",
      "  Downloading cloudpickle-3.1.0-py3-none-any.whl (22 kB)\n",
      "Collecting py4j\n",
      "  Downloading py4j-0.10.9.7-py2.py3-none-any.whl (200 kB)\n",
      "\u001b[2K     \u001b[90m━━━━━━━━━━━━━━━━━━━━━━━━━━━━━━━━━━━━━━\u001b[0m \u001b[32m200.5/200.5 kB\u001b[0m \u001b[31m14.6 MB/s\u001b[0m eta \u001b[36m0:00:00\u001b[0m\n",
      "\u001b[?25hRequirement already satisfied: pytz>=2020.1 in /home/leon/anaconda3/envs/crosswalk/lib/python3.8/site-packages (from pandas->dgllife) (2024.1)\n",
      "Requirement already satisfied: tzdata>=2022.1 in /home/leon/anaconda3/envs/crosswalk/lib/python3.8/site-packages (from pandas->dgllife) (2024.1)\n",
      "Requirement already satisfied: python-dateutil>=2.8.2 in /home/leon/anaconda3/envs/crosswalk/lib/python3.8/site-packages (from pandas->dgllife) (2.8.2)\n",
      "Installing collected packages: py4j, future, cloudpickle, hyperopt, dgllife\n",
      "Successfully installed cloudpickle-3.1.0 dgllife-0.3.2 future-1.0.0 hyperopt-0.2.7 py4j-0.10.9.7\n"
     ]
    }
   ],
   "source": [
    "!pip install dgllife"
   ]
  },
  {
   "cell_type": "code",
   "execution_count": null,
   "metadata": {},
   "outputs": [],
   "source": [
    "import deepchem as dc\n",
    "import pandas as pd\n",
    "import numpy as np\n",
    "from deepchem.models import GCNModel\n",
    "from sklearn.preprocessing import StandardScaler\n",
    "from sklearn.model_selection import train_test_split"
   ]
  },
  {
   "cell_type": "code",
   "execution_count": null,
   "metadata": {},
   "outputs": [],
   "source": [
    "#import iris dataset\n",
    "df = pd.read_csv('data/iris.csv', header=None)\n",
    "df.columns = ['sepal_length', 'sepal_width', 'petal_length', 'petal_width', 'species']\n",
    "species_map = {'Iris-setosa': 0, 'Iris-versicolor': 1, 'Iris-virginica': 2}\n",
    "df['species'] = df['species'].map(species_map)\n",
    "\n",
    "#standardize features\n",
    "scaler = StandardScaler()\n",
    "features = df.iloc[:, :-1].values\n",
    "features_scaled = scaler.fit_transform(features)\n",
    "labels = df['species'].values"
   ]
  },
  {
   "cell_type": "code",
   "execution_count": null,
   "metadata": {},
   "outputs": [],
   "source": [
    "#split data with indices\n",
    "indices = np.arange(len(features_scaled))\n",
    "train_idx, test_idx = train_test_split(indices, test_size=0.2, random_state=42)\n",
    "\n",
    "#split features and labels\n",
    "train_features = features_scaled[train_idx]\n",
    "test_features = features_scaled[test_idx]\n",
    "train_labels = labels[train_idx]\n",
    "test_labels = labels[test_idx]\n",
    "\n",
    "# Cell 4: Create graph structures\n",
    "def create_graph(features):\n",
    "    n_samples = len(features)\n",
    "    k = 5  #nb neighbors\n",
    "    edge_index = []\n",
    "    \n",
    "    for i in range(n_samples):\n",
    "        distances = []\n",
    "        for j in range(n_samples):\n",
    "            if i != j:\n",
    "                dist = np.linalg.norm(features[i] - features[j])\n",
    "                distances.append((j, dist))\n",
    "        \n",
    "        nearest_neighbors = sorted(distances, key=lambda x: x[1])[:k]\n",
    "        for neighbor, _ in nearest_neighbors:\n",
    "            edge_index.append([i, neighbor])\n",
    "            edge_index.append([neighbor, i])\n",
    "    \n",
    "    edge_index = np.array(edge_index, dtype=np.int32).T\n",
    "    return dc.feat.graph_data.GraphData(\n",
    "        node_features=features.astype(np.float32),\n",
    "        edge_index=edge_index,\n",
    "        num_nodes=n_samples,\n",
    "        num_edges=len(edge_index)\n",
    "    )\n",
    "\n",
    "#separation train and test\n",
    "train_graph = create_graph(train_features)\n",
    "test_graph = create_graph(test_features)"
   ]
  },
  {
   "cell_type": "code",
   "execution_count": 15,
   "metadata": {},
   "outputs": [],
   "source": [
    "#create deepchem datasets train/test\n",
    "train_dataset = dc.data.NumpyDataset([train_graph], train_labels.reshape(-1, 1))\n",
    "test_dataset = dc.data.NumpyDataset([test_graph], test_labels.reshape(-1, 1))\n",
    "\n",
    "n_features = features_scaled.shape[1] "
   ]
  },
  {
   "cell_type": "code",
   "execution_count": null,
   "metadata": {},
   "outputs": [
    {
     "data": {
      "text/plain": [
       "0.04103921949863434"
      ]
     },
     "execution_count": 16,
     "metadata": {},
     "output_type": "execute_result"
    }
   ],
   "source": [
    "model = GCNModel(mode='classification', n_tasks=1,\n",
    "                 batch_size=16, learning_rate=0.001, number_atom_features=n_features)\n",
    "\n",
    "#train model\n",
    "model.fit(train_dataset, nb_epoch=5)"
   ]
  }
 ],
 "metadata": {
  "kernelspec": {
   "display_name": "crosswalk",
   "language": "python",
   "name": "python3"
  },
  "language_info": {
   "codemirror_mode": {
    "name": "ipython",
    "version": 3
   },
   "file_extension": ".py",
   "mimetype": "text/x-python",
   "name": "python",
   "nbconvert_exporter": "python",
   "pygments_lexer": "ipython3",
   "version": "3.8.15"
  }
 },
 "nbformat": 4,
 "nbformat_minor": 2
}
